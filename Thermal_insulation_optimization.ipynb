{
  "nbformat": 4,
  "nbformat_minor": 0,
  "metadata": {
    "colab": {
      "provenance": [],
      "gpuType": "T4"
    },
    "kernelspec": {
      "name": "python3",
      "display_name": "Python 3"
    },
    "language_info": {
      "name": "python"
    },
    "accelerator": "GPU"
  },
  "cells": [
    {
      "cell_type": "code",
      "execution_count": 1,
      "metadata": {
        "id": "nFamdocoSRrw"
      },
      "outputs": [],
      "source": [
        "import torch\n",
        "import torch.nn as nn\n",
        "import torch.optim as optim\n",
        "import matplotlib.pyplot as plt\n",
        "\n",
        "# Heat loss\n",
        "def heat_loss(x1, x2, x3):\n",
        "    Q = 1 / x1 + 1.5 / x2  + 2.0 / x3\n",
        "    return Q"
      ]
    },
    {
      "cell_type": "code",
      "source": [
        "# Generate training dataset\n",
        "n_row = 50\n",
        "n_col = 50\n",
        "n_samples = n_row * n_col\n",
        "\n",
        "x1 = torch.zeros(n_samples, 1)\n",
        "x2 = torch.zeros(n_samples, 1)\n",
        "x3 = torch.zeros(n_samples, 1)\n",
        "\n",
        "x1_min, x1_max = 0.05, 0.25\n",
        "\n",
        "for i in range(n_samples):\n",
        "    row = int(i / n_col)\n",
        "    col = i - row * n_col\n",
        "    x1[i] = row * (x1_max - x1_min) / n_row + x1_min\n",
        "\n",
        "    x2_min = 0.05\n",
        "    x2_max = 0.6 - 2 * x1[i] - 0.05\n",
        "    x2[i] =  col * (x2_max - x2_min) / n_col + x2_min\n",
        "\n",
        "    x3[i] = 1.5 - 5 * x1[i] - 2.5 * x2[i]\n",
        "\n",
        "x3_min = min(x3)\n",
        "x3_max = max(x3)"
      ],
      "metadata": {
        "id": "JMC43lMXSlD4"
      },
      "execution_count": 2,
      "outputs": []
    },
    {
      "cell_type": "code",
      "source": [
        "# Normalize inputs and outputs\n",
        "def normalize(data, data_min, data_max):\n",
        "    return (data - data_min) / (data_max - data_min)\n",
        "\n",
        "def denormalize(data, data_min, data_max):\n",
        "    return data * (data_max - data_min) + data_min\n",
        "\n",
        "# Normalize data\n",
        "x1_norm = normalize(x1, x1_min, x1_max)\n",
        "x2_norm = normalize(x2, x2_min, x2_max)\n",
        "x3_norm = normalize(x3, x3_min, x3_max)\n",
        "Q = heat_loss(x1, x2, x3)\n",
        "Q_min, Q_max = Q.min(), Q.max()  # Save for denormalization\n",
        "Q_norm = normalize(Q, Q_min, Q_max)"
      ],
      "metadata": {
        "id": "6t_DD0zbSqJ-"
      },
      "execution_count": 3,
      "outputs": []
    },
    {
      "cell_type": "code",
      "source": [
        "# Combine normalized inputs into a single tensor\n",
        "inputs_norm = torch.cat((x1_norm, x2_norm), dim=1)\n",
        "outputs_norm = Q_norm.view(-1, 1)"
      ],
      "metadata": {
        "id": "yzt_88t-SvIA"
      },
      "execution_count": 4,
      "outputs": []
    },
    {
      "cell_type": "code",
      "source": [
        "# Define a neural network model\n",
        "class SurrogateModel(nn.Module):\n",
        "    def __init__(self):\n",
        "        super(SurrogateModel, self).__init__()\n",
        "        self.fc1 = nn.Linear(2, 20)\n",
        "        self.fc2 = nn.Linear(20, 20)\n",
        "        self.fc3 = nn.Linear(20, 1)\n",
        "\n",
        "    def forward(self, x):\n",
        "        x = torch.relu(self.fc1(x))\n",
        "        x = torch.relu(self.fc2(x))\n",
        "        x = self.fc3(x)\n",
        "        return x\n",
        "\n",
        "# Initialize the model, loss function, and optimizer\n",
        "model = SurrogateModel()\n",
        "criterion = nn.MSELoss()\n",
        "optimizer = optim.Adam(model.parameters(), lr=0.002)\n",
        "\n",
        "# Train the model\n",
        "n_epochs = 10000\n",
        "loss_history = []\n",
        "\n",
        "for epoch in range(n_epochs):\n",
        "    model.train()\n",
        "    optimizer.zero_grad()\n",
        "\n",
        "    # Forward pass\n",
        "    predictions = model(inputs_norm)\n",
        "    loss = criterion(predictions, outputs_norm)\n",
        "    loss.backward()\n",
        "    optimizer.step()\n",
        "\n",
        "    loss_history.append(loss.item())\n",
        "    if (epoch + 1) % 200 == 0:\n",
        "        print(f'Epoch [{epoch+1}/{n_epochs}], Loss: {loss.item():.5f}')\n",
        "\n",
        "# Plot the training loss\n",
        "plt.figure(figsize=(8, 5))\n",
        "plt.plot(loss_history, label='Training Loss')\n",
        "plt.xlabel('Epoch')\n",
        "plt.ylabel('Loss')\n",
        "plt.title('Training Loss Curve')\n",
        "plt.legend()\n",
        "plt.grid(True)\n",
        "plt.show()"
      ],
      "metadata": {
        "colab": {
          "base_uri": "https://localhost:8080/",
          "height": 1000
        },
        "id": "3Hc0kCJSSyG-",
        "outputId": "004958d6-3eab-4a93-f55e-0bb116605a8d"
      },
      "execution_count": 5,
      "outputs": [
        {
          "output_type": "stream",
          "name": "stdout",
          "text": [
            "Epoch [200/10000], Loss: 0.00957\n",
            "Epoch [400/10000], Loss: 0.00377\n",
            "Epoch [600/10000], Loss: 0.00252\n",
            "Epoch [800/10000], Loss: 0.00189\n",
            "Epoch [1000/10000], Loss: 0.00153\n",
            "Epoch [1200/10000], Loss: 0.00119\n",
            "Epoch [1400/10000], Loss: 0.00103\n",
            "Epoch [1600/10000], Loss: 0.00104\n",
            "Epoch [1800/10000], Loss: 0.00088\n",
            "Epoch [2000/10000], Loss: 0.00082\n",
            "Epoch [2200/10000], Loss: 0.00074\n",
            "Epoch [2400/10000], Loss: 0.00069\n",
            "Epoch [2600/10000], Loss: 0.00063\n",
            "Epoch [2800/10000], Loss: 0.00059\n",
            "Epoch [3000/10000], Loss: 0.00044\n",
            "Epoch [3200/10000], Loss: 0.00039\n",
            "Epoch [3400/10000], Loss: 0.00051\n",
            "Epoch [3600/10000], Loss: 0.00039\n",
            "Epoch [3800/10000], Loss: 0.00038\n",
            "Epoch [4000/10000], Loss: 0.00025\n",
            "Epoch [4200/10000], Loss: 0.00023\n",
            "Epoch [4400/10000], Loss: 0.00022\n",
            "Epoch [4600/10000], Loss: 0.00021\n",
            "Epoch [4800/10000], Loss: 0.00023\n",
            "Epoch [5000/10000], Loss: 0.00019\n",
            "Epoch [5200/10000], Loss: 0.00018\n",
            "Epoch [5400/10000], Loss: 0.00045\n",
            "Epoch [5600/10000], Loss: 0.00017\n",
            "Epoch [5800/10000], Loss: 0.00017\n",
            "Epoch [6000/10000], Loss: 0.00026\n",
            "Epoch [6200/10000], Loss: 0.00016\n",
            "Epoch [6400/10000], Loss: 0.00016\n",
            "Epoch [6600/10000], Loss: 0.00016\n",
            "Epoch [6800/10000], Loss: 0.00015\n",
            "Epoch [7000/10000], Loss: 0.00015\n",
            "Epoch [7200/10000], Loss: 0.00032\n",
            "Epoch [7400/10000], Loss: 0.00014\n",
            "Epoch [7600/10000], Loss: 0.00014\n",
            "Epoch [7800/10000], Loss: 0.00014\n",
            "Epoch [8000/10000], Loss: 0.00021\n",
            "Epoch [8200/10000], Loss: 0.00012\n",
            "Epoch [8400/10000], Loss: 0.00017\n",
            "Epoch [8600/10000], Loss: 0.00016\n",
            "Epoch [8800/10000], Loss: 0.00149\n",
            "Epoch [9000/10000], Loss: 0.00011\n",
            "Epoch [9200/10000], Loss: 0.00011\n",
            "Epoch [9400/10000], Loss: 0.00011\n",
            "Epoch [9600/10000], Loss: 0.00011\n",
            "Epoch [9800/10000], Loss: 0.00020\n",
            "Epoch [10000/10000], Loss: 0.00010\n"
          ]
        },
        {
          "output_type": "display_data",
          "data": {
            "text/plain": [
              "<Figure size 800x500 with 1 Axes>"
            ],
            "image/png": "[encoded data removed]"
          },
          "metadata": {}
        }
      ]
    },
    {
      "cell_type": "code",
      "source": [
        "# Initial guess for optimization\n",
        "x_opt = torch.tensor([0.5, 0.5], requires_grad=True)\n",
        "\n",
        "# Optimizer for the optimization process\n",
        "optimizer = optim.Adam([x_opt], lr=0.2)\n",
        "\n",
        "# Optimization loop\n",
        "n_iterations = 4000\n",
        "for iteration in range(n_iterations):\n",
        "    optimizer.zero_grad()\n",
        "\n",
        "    # Predict normalized Q\n",
        "    Q_pred_norm = model(x_opt)\n",
        "    Q_pred = denormalize(Q_pred_norm, Q_min, Q_max)  # Denormalize for penalty calculation\n",
        "\n",
        "    # Denormalize inputs\n",
        "    x1_denorm = denormalize(x_opt[0], x1_min, x1_max)\n",
        "    x2_denorm = denormalize(x_opt[1], x2_min, x2_max)\n",
        "\n",
        "    # Loss for minimization\n",
        "    loss = Q_pred\n",
        "    loss.backward()\n",
        "    optimizer.step()\n",
        "\n",
        "    if (iteration + 1) % 500 == 0:\n",
        "        print(f'Iteration [{iteration + 1}/{n_iterations}], Predicted Q: {Q_pred.item():.4f}, x_opt: {x_opt.data.numpy()}')\n",
        "\n",
        "# Final optimized values (denormalized)\n",
        "x1_opt = denormalize(x_opt[0].detach(), x1_min, x1_max)\n",
        "x2_opt = denormalize(x_opt[1].detach(), x2_min, x2_max)\n",
        "\n",
        "print(f'x1= {x1_opt.item():.2f}')\n",
        "print(f'x2= {x2_opt.item():.2f}')\n",
        "print(f'x3= {1.5 - 5 * x1_opt.item() - 2.5 * x2_opt.item():.2f}')"
      ],
      "metadata": {
        "colab": {
          "base_uri": "https://localhost:8080/"
        },
        "id": "zzMv7sIbS2AM",
        "outputId": "1da11f2c-3533-4a7d-bd2e-50a41f5e8541"
      },
      "execution_count": 6,
      "outputs": [
        {
          "output_type": "stream",
          "name": "stdout",
          "text": [
            "Iteration [500/4000], Predicted Q: 20.6191, x_opt: [ 0.3112632 20.57882  ]\n",
            "Iteration [1000/4000], Predicted Q: 20.5172, x_opt: [ 0.34905523 20.1361    ]\n",
            "Iteration [1500/4000], Predicted Q: 20.4279, x_opt: [ 0.31496918 19.940144  ]\n",
            "Iteration [2000/4000], Predicted Q: 20.3419, x_opt: [ 0.32908162 20.079266  ]\n",
            "Iteration [2500/4000], Predicted Q: 20.2826, x_opt: [ 0.36444142 20.446024  ]\n",
            "Iteration [3000/4000], Predicted Q: 20.5833, x_opt: [ 0.30314252 19.785858  ]\n",
            "Iteration [3500/4000], Predicted Q: 20.4585, x_opt: [ 0.30302632 20.133493  ]\n",
            "Iteration [4000/4000], Predicted Q: 20.4086, x_opt: [ 0.35656512 19.917084  ]\n",
            "x1= 0.12\n",
            "x2= 0.21\n",
            "x3= 0.37\n"
          ]
        }
      ]
    }
  ]
}